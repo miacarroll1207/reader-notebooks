{
  "nbformat": 4,
  "nbformat_minor": 0,
  "metadata": {
    "colab": {
      "provenance": [],
      "authorship_tag": "ABX9TyPbEh4VpYZL3c7sFE0hHvjm",
      "include_colab_link": true
    },
    "kernelspec": {
      "name": "python3",
      "display_name": "Python 3"
    },
    "language_info": {
      "name": "python"
    }
  },
  "cells": [
    {
      "cell_type": "markdown",
      "metadata": {
        "id": "view-in-github",
        "colab_type": "text"
      },
      "source": [
        "<a href=\"https://colab.research.google.com/github/miacarroll1207/reader-notebooks/blob/main/Summarize_Text.ipynb\" target=\"_parent\"><img src=\"https://colab.research.google.com/assets/colab-badge.svg\" alt=\"Open In Colab\"/></a>"
      ]
    },
    {
      "cell_type": "code",
      "execution_count": null,
      "metadata": {
        "id": "rsKzZWkcme8x"
      },
      "outputs": [],
      "source": [
        "#load data (just text)\n",
        "text = \"\"\" Maria Sharapova has basically no friends as tennis players on the WTA Tour. The Russian player has no problems in openly speaking about it and in a recent interview she said: ‘I don’t really hide any feelings too much.\n",
        "I think everyone knows this is my job here. When I’m on the courts or when I’m on the court playing, I’m a competitor and I want to beat every single person whether they’re in the locker room or across the net.\n",
        "So I’m not the one to strike up a conversation about the weather and know that in the next few minutes I have to go and try to win a tennis match.\n",
        "I’m a pretty competitive girl. I say my hellos, but I’m not sending any players flowers as well. Uhm, I’m not really friendly or close to many players.\n",
        "I have not a lot of friends away from the courts.’ When she said she is not really close to a lot of players, is that something strategic that she is doing? Is it different on the men’s tour than the women’s tour? ‘No, not at all.\n",
        "I think just because you’re in the same sport doesn’t mean that you have to be friends with everyone just because you’re categorized, you’re a tennis player, so you’re going to get along with tennis players.\n",
        "I think every person has different interests. I have friends that have completely different jobs and interests, and I’ve met them in very different parts of my life.\n",
        "I think everyone just thinks because we’re tennis players we should be the greatest of friends. But ultimately tennis is just a very small part of what we do.\n",
        "There are so many other things that we’re interested in, that we do. \"\"\""
      ]
    },
    {
      "cell_type": "code",
      "source": [
        "len(text)"
      ],
      "metadata": {
        "colab": {
          "base_uri": "https://localhost:8080/"
        },
        "id": "xex7KAZIm5Vh",
        "outputId": "b35dc8a5-e730-4778-f75a-1bc893b881f3"
      },
      "execution_count": null,
      "outputs": [
        {
          "output_type": "execute_result",
          "data": {
            "text/plain": [
              "1563"
            ]
          },
          "metadata": {},
          "execution_count": 2
        }
      ]
    },
    {
      "cell_type": "code",
      "source": [
        "#use spacy to load en_core_web_sm\n",
        "import spacy\n",
        "from spacy.lang.en.stop_words import STOP_WORDS\n",
        "from string import punctuation\n"
      ],
      "metadata": {
        "id": "xPkafd_2nBuf"
      },
      "execution_count": null,
      "outputs": []
    },
    {
      "cell_type": "code",
      "source": [
        "nlp = spacy.load('en_core_web_sm')"
      ],
      "metadata": {
        "id": "6YNW1XnRnRSm"
      },
      "execution_count": null,
      "outputs": []
    },
    {
      "cell_type": "code",
      "source": [
        "doc = nlp(text)"
      ],
      "metadata": {
        "id": "Rc05Y5P5nOxj"
      },
      "execution_count": null,
      "outputs": []
    },
    {
      "cell_type": "code",
      "source": [
        "type(doc)"
      ],
      "metadata": {
        "colab": {
          "base_uri": "https://localhost:8080/"
        },
        "id": "cuqppxKmnP2C",
        "outputId": "e32adbb2-c6c6-47f4-ebfd-cc97496b48ea"
      },
      "execution_count": null,
      "outputs": [
        {
          "output_type": "execute_result",
          "data": {
            "text/plain": [
              "spacy.tokens.doc.Doc"
            ]
          },
          "metadata": {},
          "execution_count": 6
        }
      ]
    },
    {
      "cell_type": "code",
      "source": [
        "tokens = [token.text for token in doc]\n",
        "print(tokens)"
      ],
      "metadata": {
        "colab": {
          "base_uri": "https://localhost:8080/"
        },
        "id": "U8uW6eOQnXzf",
        "outputId": "f51b6dbc-fd32-4fd0-f3b7-157b07ff0021"
      },
      "execution_count": null,
      "outputs": [
        {
          "output_type": "stream",
          "name": "stdout",
          "text": [
            "[' ', 'Maria', 'Sharapova', 'has', 'basically', 'no', 'friends', 'as', 'tennis', 'players', 'on', 'the', 'WTA', 'Tour', '.', 'The', 'Russian', 'player', 'has', 'no', 'problems', 'in', 'openly', 'speaking', 'about', 'it', 'and', 'in', 'a', 'recent', 'interview', 'she', 'said', ':', '‘', 'I', 'do', 'n’t', 'really', 'hide', 'any', 'feelings', 'too', 'much', '.', '\\n', 'I', 'think', 'everyone', 'knows', 'this', 'is', 'my', 'job', 'here', '.', 'When', 'I', '’m', 'on', 'the', 'courts', 'or', 'when', 'I', '’m', 'on', 'the', 'court', 'playing', ',', 'I', '’m', 'a', 'competitor', 'and', 'I', 'want', 'to', 'beat', 'every', 'single', 'person', 'whether', 'they', '’re', 'in', 'the', 'locker', 'room', 'or', 'across', 'the', 'net', '.', '\\n', 'So', 'I', '’m', 'not', 'the', 'one', 'to', 'strike', 'up', 'a', 'conversation', 'about', 'the', 'weather', 'and', 'know', 'that', 'in', 'the', 'next', 'few', 'minutes', 'I', 'have', 'to', 'go', 'and', 'try', 'to', 'win', 'a', 'tennis', 'match', '.', '\\n', 'I', '’m', 'a', 'pretty', 'competitive', 'girl', '.', 'I', 'say', 'my', 'hellos', ',', 'but', 'I', '’m', 'not', 'sending', 'any', 'players', 'flowers', 'as', 'well', '.', 'Uhm', ',', 'I', '’m', 'not', 'really', 'friendly', 'or', 'close', 'to', 'many', 'players', '.', '\\n', 'I', 'have', 'not', 'a', 'lot', 'of', 'friends', 'away', 'from', 'the', 'courts', '.', '’', 'When', 'she', 'said', 'she', 'is', 'not', 'really', 'close', 'to', 'a', 'lot', 'of', 'players', ',', 'is', 'that', 'something', 'strategic', 'that', 'she', 'is', 'doing', '?', 'Is', 'it', 'different', 'on', 'the', 'men', '’s', 'tour', 'than', 'the', 'women', '’s', 'tour', '?', '‘', 'No', ',', 'not', 'at', 'all', '.', '\\n', 'I', 'think', 'just', 'because', 'you', '’re', 'in', 'the', 'same', 'sport', 'does', 'n’t', 'mean', 'that', 'you', 'have', 'to', 'be', 'friends', 'with', 'everyone', 'just', 'because', 'you', '’re', 'categorized', ',', 'you', '’re', 'a', 'tennis', 'player', ',', 'so', 'you', '’re', 'going', 'to', 'get', 'along', 'with', 'tennis', 'players', '.', '\\n', 'I', 'think', 'every', 'person', 'has', 'different', 'interests', '.', 'I', 'have', 'friends', 'that', 'have', 'completely', 'different', 'jobs', 'and', 'interests', ',', 'and', 'I', '’ve', 'met', 'them', 'in', 'very', 'different', 'parts', 'of', 'my', 'life', '.', '\\n', 'I', 'think', 'everyone', 'just', 'thinks', 'because', 'we', '’re', 'tennis', 'players', 'we', 'should', 'be', 'the', 'greatest', 'of', 'friends', '.', 'But', 'ultimately', 'tennis', 'is', 'just', 'a', 'very', 'small', 'part', 'of', 'what', 'we', 'do', '.', '\\n', 'There', 'are', 'so', 'many', 'other', 'things', 'that', 'we', '’re', 'interested', 'in', ',', 'that', 'we', 'do', '.']\n"
          ]
        }
      ]
    },
    {
      "cell_type": "code",
      "source": [
        "#clean data\n",
        "#remove stop words, punctuation, all lower case\n",
        "punctuation =  punctuation + '\\n'"
      ],
      "metadata": {
        "id": "UKtbF5JlneLa"
      },
      "execution_count": null,
      "outputs": []
    },
    {
      "cell_type": "code",
      "source": [
        "punctuation"
      ],
      "metadata": {
        "colab": {
          "base_uri": "https://localhost:8080/",
          "height": 35
        },
        "id": "5R8gUf5EnkUu",
        "outputId": "0f6b5ddb-9ad7-4887-d3c3-8875684e80a1"
      },
      "execution_count": null,
      "outputs": [
        {
          "output_type": "execute_result",
          "data": {
            "text/plain": [
              "'!\"#$%&\\'()*+,-./:;<=>?@[\\\\]^_`{|}~\\n'"
            ],
            "application/vnd.google.colaboratory.intrinsic+json": {
              "type": "string"
            }
          },
          "metadata": {},
          "execution_count": 9
        }
      ]
    },
    {
      "cell_type": "code",
      "source": [
        "word_freq = {}\n",
        "\n",
        "stop_words = list(STOP_WORDS)\n",
        "\n",
        "for word in doc:\n",
        "  if word.text.lower() not in  stop_words:\n",
        "    if word.text.lower() not in punctuation:\n",
        "      if word.text not in word_freq.keys():\n",
        "        word_freq[word.text] = 1\n",
        "      else:\n",
        "        word_freq[word.text] += 1"
      ],
      "metadata": {
        "id": "4D_9bJhHnlwa"
      },
      "execution_count": null,
      "outputs": []
    },
    {
      "cell_type": "code",
      "source": [
        "word_freq"
      ],
      "metadata": {
        "colab": {
          "base_uri": "https://localhost:8080/"
        },
        "id": "XmuF5RDKoNQr",
        "outputId": "47d32fad-c0d4-4121-bc0d-aeccbcd26e41"
      },
      "execution_count": null,
      "outputs": [
        {
          "output_type": "execute_result",
          "data": {
            "text/plain": [
              "{' ': 1,\n",
              " 'Maria': 1,\n",
              " 'Sharapova': 1,\n",
              " 'basically': 1,\n",
              " 'friends': 5,\n",
              " 'tennis': 6,\n",
              " 'players': 6,\n",
              " 'WTA': 1,\n",
              " 'Tour': 1,\n",
              " 'Russian': 1,\n",
              " 'player': 2,\n",
              " 'problems': 1,\n",
              " 'openly': 1,\n",
              " 'speaking': 1,\n",
              " 'recent': 1,\n",
              " 'interview': 1,\n",
              " 'said': 2,\n",
              " '‘': 2,\n",
              " 'hide': 1,\n",
              " 'feelings': 1,\n",
              " 'think': 4,\n",
              " 'knows': 1,\n",
              " 'job': 1,\n",
              " 'courts': 2,\n",
              " 'court': 1,\n",
              " 'playing': 1,\n",
              " 'competitor': 1,\n",
              " 'want': 1,\n",
              " 'beat': 1,\n",
              " 'single': 1,\n",
              " 'person': 2,\n",
              " 'locker': 1,\n",
              " 'room': 1,\n",
              " 'net': 1,\n",
              " 'strike': 1,\n",
              " 'conversation': 1,\n",
              " 'weather': 1,\n",
              " 'know': 1,\n",
              " 'minutes': 1,\n",
              " 'try': 1,\n",
              " 'win': 1,\n",
              " 'match': 1,\n",
              " 'pretty': 1,\n",
              " 'competitive': 1,\n",
              " 'girl': 1,\n",
              " 'hellos': 1,\n",
              " 'sending': 1,\n",
              " 'flowers': 1,\n",
              " 'Uhm': 1,\n",
              " 'friendly': 1,\n",
              " 'close': 2,\n",
              " 'lot': 2,\n",
              " 'away': 1,\n",
              " '’': 1,\n",
              " 'strategic': 1,\n",
              " 'different': 4,\n",
              " 'men': 1,\n",
              " 'tour': 2,\n",
              " 'women': 1,\n",
              " 'sport': 1,\n",
              " 'mean': 1,\n",
              " 'categorized': 1,\n",
              " 'going': 1,\n",
              " 'interests': 2,\n",
              " 'completely': 1,\n",
              " 'jobs': 1,\n",
              " 'met': 1,\n",
              " 'parts': 1,\n",
              " 'life': 1,\n",
              " 'thinks': 1,\n",
              " 'greatest': 1,\n",
              " 'ultimately': 1,\n",
              " 'small': 1,\n",
              " 'things': 1,\n",
              " 'interested': 1}"
            ]
          },
          "metadata": {},
          "execution_count": 11
        }
      ]
    },
    {
      "cell_type": "code",
      "source": [
        "max_freq = max(word_freq.values())"
      ],
      "metadata": {
        "id": "5GHdNBQ0oRa9"
      },
      "execution_count": null,
      "outputs": []
    },
    {
      "cell_type": "code",
      "source": [
        "max_freq"
      ],
      "metadata": {
        "colab": {
          "base_uri": "https://localhost:8080/"
        },
        "id": "OwD3tQROoVcE",
        "outputId": "70dc51f2-d49d-44c3-f40d-c0a96cb7d8d5"
      },
      "execution_count": null,
      "outputs": [
        {
          "output_type": "execute_result",
          "data": {
            "text/plain": [
              "6"
            ]
          },
          "metadata": {},
          "execution_count": 13
        }
      ]
    },
    {
      "cell_type": "code",
      "source": [
        "for word in word_freq.keys():\n",
        "  word_freq[word] = word_freq[word] / max_freq"
      ],
      "metadata": {
        "id": "7EiW2DBDoYIi"
      },
      "execution_count": null,
      "outputs": []
    },
    {
      "cell_type": "code",
      "source": [
        "word_freq"
      ],
      "metadata": {
        "colab": {
          "base_uri": "https://localhost:8080/"
        },
        "id": "BcBLvmexoZup",
        "outputId": "9084fd6b-6ec4-48c0-d375-7e49064c3fc3"
      },
      "execution_count": null,
      "outputs": [
        {
          "output_type": "execute_result",
          "data": {
            "text/plain": [
              "{' ': 0.16666666666666666,\n",
              " 'Maria': 0.16666666666666666,\n",
              " 'Sharapova': 0.16666666666666666,\n",
              " 'basically': 0.16666666666666666,\n",
              " 'friends': 0.8333333333333334,\n",
              " 'tennis': 1.0,\n",
              " 'players': 1.0,\n",
              " 'WTA': 0.16666666666666666,\n",
              " 'Tour': 0.16666666666666666,\n",
              " 'Russian': 0.16666666666666666,\n",
              " 'player': 0.3333333333333333,\n",
              " 'problems': 0.16666666666666666,\n",
              " 'openly': 0.16666666666666666,\n",
              " 'speaking': 0.16666666666666666,\n",
              " 'recent': 0.16666666666666666,\n",
              " 'interview': 0.16666666666666666,\n",
              " 'said': 0.3333333333333333,\n",
              " '‘': 0.3333333333333333,\n",
              " 'hide': 0.16666666666666666,\n",
              " 'feelings': 0.16666666666666666,\n",
              " 'think': 0.6666666666666666,\n",
              " 'knows': 0.16666666666666666,\n",
              " 'job': 0.16666666666666666,\n",
              " 'courts': 0.3333333333333333,\n",
              " 'court': 0.16666666666666666,\n",
              " 'playing': 0.16666666666666666,\n",
              " 'competitor': 0.16666666666666666,\n",
              " 'want': 0.16666666666666666,\n",
              " 'beat': 0.16666666666666666,\n",
              " 'single': 0.16666666666666666,\n",
              " 'person': 0.3333333333333333,\n",
              " 'locker': 0.16666666666666666,\n",
              " 'room': 0.16666666666666666,\n",
              " 'net': 0.16666666666666666,\n",
              " 'strike': 0.16666666666666666,\n",
              " 'conversation': 0.16666666666666666,\n",
              " 'weather': 0.16666666666666666,\n",
              " 'know': 0.16666666666666666,\n",
              " 'minutes': 0.16666666666666666,\n",
              " 'try': 0.16666666666666666,\n",
              " 'win': 0.16666666666666666,\n",
              " 'match': 0.16666666666666666,\n",
              " 'pretty': 0.16666666666666666,\n",
              " 'competitive': 0.16666666666666666,\n",
              " 'girl': 0.16666666666666666,\n",
              " 'hellos': 0.16666666666666666,\n",
              " 'sending': 0.16666666666666666,\n",
              " 'flowers': 0.16666666666666666,\n",
              " 'Uhm': 0.16666666666666666,\n",
              " 'friendly': 0.16666666666666666,\n",
              " 'close': 0.3333333333333333,\n",
              " 'lot': 0.3333333333333333,\n",
              " 'away': 0.16666666666666666,\n",
              " '’': 0.16666666666666666,\n",
              " 'strategic': 0.16666666666666666,\n",
              " 'different': 0.6666666666666666,\n",
              " 'men': 0.16666666666666666,\n",
              " 'tour': 0.3333333333333333,\n",
              " 'women': 0.16666666666666666,\n",
              " 'sport': 0.16666666666666666,\n",
              " 'mean': 0.16666666666666666,\n",
              " 'categorized': 0.16666666666666666,\n",
              " 'going': 0.16666666666666666,\n",
              " 'interests': 0.3333333333333333,\n",
              " 'completely': 0.16666666666666666,\n",
              " 'jobs': 0.16666666666666666,\n",
              " 'met': 0.16666666666666666,\n",
              " 'parts': 0.16666666666666666,\n",
              " 'life': 0.16666666666666666,\n",
              " 'thinks': 0.16666666666666666,\n",
              " 'greatest': 0.16666666666666666,\n",
              " 'ultimately': 0.16666666666666666,\n",
              " 'small': 0.16666666666666666,\n",
              " 'things': 0.16666666666666666,\n",
              " 'interested': 0.16666666666666666}"
            ]
          },
          "metadata": {},
          "execution_count": 15
        }
      ]
    },
    {
      "cell_type": "code",
      "source": [
        "#TOKENIZE SENTENCES\n",
        "sent_tokens = [sent for sent in doc.sents]\n",
        "print(sent_tokens)"
      ],
      "metadata": {
        "colab": {
          "base_uri": "https://localhost:8080/"
        },
        "id": "QrUUSRoPoeb0",
        "outputId": "7bf69a77-c7b9-492d-c989-8fbd90e2f6ca"
      },
      "execution_count": null,
      "outputs": [
        {
          "output_type": "stream",
          "name": "stdout",
          "text": [
            "[ Maria Sharapova has basically no friends as tennis players on the WTA Tour., The Russian player has no problems in openly speaking about it and in a recent interview she said: ‘I don’t really hide any feelings too much.\n",
            ", I think everyone knows this is my job here., When I’m on the courts or when I’m on the court playing, I’m a competitor and I want to beat every single person whether they’re in the locker room or across the net.\n",
            ", So I’m not the one to strike up a conversation about the weather and know that in the next few minutes I have to go and try to win a tennis match.\n",
            ", I’m a pretty competitive girl., I say my hellos, but I’m not sending any players flowers as well., Uhm, I’m not really friendly or close to many players.\n",
            ", I have not a lot of friends away from the courts.’, When she said she is not really close to a lot of players, is that something strategic that she is doing?, Is it different on the men’s tour than the women’s tour?, ‘No, not at all.\n",
            ", I think just because you’re in the same sport doesn’t mean that you have to be friends with everyone just because you’re categorized, you’re a tennis player, so you’re going to get along with tennis players.\n",
            ", I think every person has different interests., I have friends that have completely different jobs and interests, and I’ve met them in very different parts of my life.\n",
            ", I think everyone just thinks because we’re tennis players we should be the greatest of friends., But ultimately tennis is just a very small part of what we do.\n",
            ", There are so many other things that we’re interested in, that we do.]\n"
          ]
        }
      ]
    },
    {
      "cell_type": "code",
      "source": [
        "sent_score = {}"
      ],
      "metadata": {
        "id": "HijQUvQtoneW"
      },
      "execution_count": null,
      "outputs": []
    },
    {
      "cell_type": "code",
      "source": [
        "for sent in sent_tokens:\n",
        "  for word in sent:\n",
        "    if word.text.lower()in word_freq.keys():\n",
        "      if sent not in sent_score.keys():\n",
        "        sent_score[sent] = word_freq[word.text.lower()]\n",
        "      else:\n",
        "        sent_score[sent] += word_freq[word.text.lower()]"
      ],
      "metadata": {
        "id": "_-L6ow3erLVG"
      },
      "execution_count": null,
      "outputs": []
    },
    {
      "cell_type": "code",
      "source": [
        "sent_score"
      ],
      "metadata": {
        "colab": {
          "base_uri": "https://localhost:8080/"
        },
        "id": "K6em8xv6rMZu",
        "outputId": "273f45a3-dc95-417b-f8c7-46c8ed22fc3a"
      },
      "execution_count": null,
      "outputs": [
        {
          "output_type": "execute_result",
          "data": {
            "text/plain": [
              "{ Maria Sharapova has basically no friends as tennis players on the WTA Tour.: 3.5000000000000004,\n",
              " The Russian player has no problems in openly speaking about it and in a recent interview she said: ‘I don’t really hide any feelings too much.: 2.1666666666666665,\n",
              " I think everyone knows this is my job here.: 0.9999999999999999,\n",
              " When I’m on the courts or when I’m on the court playing, I’m a competitor and I want to beat every single person whether they’re in the locker room or across the net.: 2.1666666666666665,\n",
              " So I’m not the one to strike up a conversation about the weather and know that in the next few minutes I have to go and try to win a tennis match.: 2.333333333333333,\n",
              " I’m a pretty competitive girl.: 0.5,\n",
              " I say my hellos, but I’m not sending any players flowers as well.: 1.5,\n",
              " Uhm, I’m not really friendly or close to many players.: 1.5,\n",
              " I have not a lot of friends away from the courts.’: 1.8333333333333335,\n",
              " When she said she is not really close to a lot of players, is that something strategic that she is doing?: 2.1666666666666665,\n",
              " Is it different on the men’s tour than the women’s tour?: 1.6666666666666665,\n",
              " ‘No, not at all.: 0.3333333333333333,\n",
              " I think just because you’re in the same sport doesn’t mean that you have to be friends with everyone just because you’re categorized, you’re a tennis player, so you’re going to get along with tennis players.: 5.5,\n",
              " I think every person has different interests.: 1.9999999999999998,\n",
              " I have friends that have completely different jobs and interests, and I’ve met them in very different parts of my life.: 3.3333333333333326,\n",
              " I think everyone just thinks because we’re tennis players we should be the greatest of friends.: 3.833333333333333,\n",
              " But ultimately tennis is just a very small part of what we do.: 1.3333333333333335,\n",
              " There are so many other things that we’re interested in, that we do.: 0.3333333333333333}"
            ]
          },
          "metadata": {},
          "execution_count": 19
        }
      ]
    },
    {
      "cell_type": "code",
      "source": [
        "from heapq import nlargest"
      ],
      "metadata": {
        "id": "LUzvKqvhrfy9"
      },
      "execution_count": null,
      "outputs": []
    },
    {
      "cell_type": "code",
      "source": [
        "len(sent_score) * 0.3"
      ],
      "metadata": {
        "colab": {
          "base_uri": "https://localhost:8080/"
        },
        "id": "yIX4d8_Jrlq0",
        "outputId": "e0376b88-839b-4a4b-84da-34232b07b44c"
      },
      "execution_count": null,
      "outputs": [
        {
          "output_type": "execute_result",
          "data": {
            "text/plain": [
              "5.3999999999999995"
            ]
          },
          "metadata": {},
          "execution_count": 21
        }
      ]
    },
    {
      "cell_type": "code",
      "source": [
        "summary = nlargest(n = 8, iterable= sent_score, key = sent_score.get)"
      ],
      "metadata": {
        "id": "PAXkLTyt9C9b"
      },
      "execution_count": null,
      "outputs": []
    },
    {
      "cell_type": "code",
      "source": [
        "summary\n"
      ],
      "metadata": {
        "colab": {
          "base_uri": "https://localhost:8080/"
        },
        "id": "5RMyQQNf9Ec2",
        "outputId": "5b2535f5-5ad6-4fe1-cb44-68ac3b4f3c42"
      },
      "execution_count": null,
      "outputs": [
        {
          "output_type": "execute_result",
          "data": {
            "text/plain": [
              "[I think just because you’re in the same sport doesn’t mean that you have to be friends with everyone just because you’re categorized, you’re a tennis player, so you’re going to get along with tennis players.,\n",
              " I think everyone just thinks because we’re tennis players we should be the greatest of friends.,\n",
              "  Maria Sharapova has basically no friends as tennis players on the WTA Tour.,\n",
              " I have friends that have completely different jobs and interests, and I’ve met them in very different parts of my life.,\n",
              " So I’m not the one to strike up a conversation about the weather and know that in the next few minutes I have to go and try to win a tennis match.,\n",
              " The Russian player has no problems in openly speaking about it and in a recent interview she said: ‘I don’t really hide any feelings too much.,\n",
              " When I’m on the courts or when I’m on the court playing, I’m a competitor and I want to beat every single person whether they’re in the locker room or across the net.,\n",
              " When she said she is not really close to a lot of players, is that something strategic that she is doing?]"
            ]
          },
          "metadata": {},
          "execution_count": 23
        }
      ]
    },
    {
      "cell_type": "code",
      "source": [
        "type(summary)"
      ],
      "metadata": {
        "colab": {
          "base_uri": "https://localhost:8080/"
        },
        "id": "-lGjI9DQ9Ywv",
        "outputId": "aa22b9a0-dc5f-45bf-c562-885bafe62437"
      },
      "execution_count": null,
      "outputs": [
        {
          "output_type": "execute_result",
          "data": {
            "text/plain": [
              "list"
            ]
          },
          "metadata": {},
          "execution_count": 24
        }
      ]
    },
    {
      "cell_type": "code",
      "source": [],
      "metadata": {
        "id": "IeJasqNG9cHq"
      },
      "execution_count": null,
      "outputs": []
    },
    {
      "cell_type": "code",
      "source": [
        "final_summary = [word.text for word in summary]\n",
        "final_summary"
      ],
      "metadata": {
        "colab": {
          "base_uri": "https://localhost:8080/"
        },
        "id": "cAoz2Kun9Kh9",
        "outputId": "a514bf69-f428-456d-8275-05fc8cb8e315"
      },
      "execution_count": null,
      "outputs": [
        {
          "output_type": "execute_result",
          "data": {
            "text/plain": [
              "['I think just because you’re in the same sport doesn’t mean that you have to be friends with everyone just because you’re categorized, you’re a tennis player, so you’re going to get along with tennis players.\\n',\n",
              " 'I think everyone just thinks because we’re tennis players we should be the greatest of friends.',\n",
              " ' Maria Sharapova has basically no friends as tennis players on the WTA Tour.',\n",
              " 'I have friends that have completely different jobs and interests, and I’ve met them in very different parts of my life.\\n',\n",
              " 'So I’m not the one to strike up a conversation about the weather and know that in the next few minutes I have to go and try to win a tennis match.\\n',\n",
              " 'The Russian player has no problems in openly speaking about it and in a recent interview she said: ‘I don’t really hide any feelings too much.\\n',\n",
              " 'When I’m on the courts or when I’m on the court playing, I’m a competitor and I want to beat every single person whether they’re in the locker room or across the net.\\n',\n",
              " 'When she said she is not really close to a lot of players, is that something strategic that she is doing?']"
            ]
          },
          "metadata": {},
          "execution_count": 25
        }
      ]
    },
    {
      "cell_type": "code",
      "source": [
        "summary = \" \".join(final_summary)"
      ],
      "metadata": {
        "id": "suEoV1HK9NhC"
      },
      "execution_count": null,
      "outputs": []
    },
    {
      "cell_type": "code",
      "source": [
        "summary"
      ],
      "metadata": {
        "colab": {
          "base_uri": "https://localhost:8080/",
          "height": 143
        },
        "id": "GJ5-2BfY9T62",
        "outputId": "56d7b783-b900-4514-b020-06c7c2d9a518"
      },
      "execution_count": null,
      "outputs": [
        {
          "output_type": "execute_result",
          "data": {
            "text/plain": [
              "'I think just because you’re in the same sport doesn’t mean that you have to be friends with everyone just because you’re categorized, you’re a tennis player, so you’re going to get along with tennis players.\\n I think everyone just thinks because we’re tennis players we should be the greatest of friends.  Maria Sharapova has basically no friends as tennis players on the WTA Tour. I have friends that have completely different jobs and interests, and I’ve met them in very different parts of my life.\\n So I’m not the one to strike up a conversation about the weather and know that in the next few minutes I have to go and try to win a tennis match.\\n The Russian player has no problems in openly speaking about it and in a recent interview she said: ‘I don’t really hide any feelings too much.\\n When I’m on the courts or when I’m on the court playing, I’m a competitor and I want to beat every single person whether they’re in the locker room or across the net.\\n When she said she is not really close to a lot of players, is that something strategic that she is doing?'"
            ],
            "application/vnd.google.colaboratory.intrinsic+json": {
              "type": "string"
            }
          },
          "metadata": {},
          "execution_count": 27
        }
      ]
    },
    {
      "cell_type": "code",
      "source": [
        "len(summary)/ len(text)"
      ],
      "metadata": {
        "colab": {
          "base_uri": "https://localhost:8080/"
        },
        "id": "dVbdqK3Q9d_e",
        "outputId": "cca01949-4ffb-4473-ac0a-578ce53ebda9"
      },
      "execution_count": null,
      "outputs": [
        {
          "output_type": "execute_result",
          "data": {
            "text/plain": [
              "0.6833013435700576"
            ]
          },
          "metadata": {},
          "execution_count": 28
        }
      ]
    }
  ]
}